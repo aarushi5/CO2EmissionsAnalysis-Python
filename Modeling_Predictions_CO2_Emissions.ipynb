{
 "cells": [
  {
   "cell_type": "code",
   "execution_count": 1,
   "metadata": {},
   "outputs": [],
   "source": [
    "import pandas as pd\n",
    "import matplotlib.pyplot as plot\n",
    "from sklearn import linear_model,datasets\n",
    "from sklearn.ensemble import RandomForestRegressor\n",
    "from sklearn.tree import DecisionTreeRegressor\n",
    "from sklearn.naive_bayes import GaussianNB\n",
    "from sklearn.metrics import r2_score"
   ]
  },
  {
   "cell_type": "code",
   "execution_count": 2,
   "metadata": {},
   "outputs": [],
   "source": [
    "def read_file1(datafile, metadatafile):\n",
    "    df_actualdata = pd.read_csv(datafile,index_col=False,header=2)\n",
    "    df_actualdata = df_actualdata[df_actualdata.columns[:-1]]\n",
    "    df_actualdata= df_actualdata.fillna(0)\n",
    "    \n",
    "    df_metadata = pd.read_csv(metadatafile,header=0)\n",
    "    df_metadata = df_metadata[['Country Code', 'Region', 'IncomeGroup']]\n",
    "    df_metadata = df_metadata.dropna()\n",
    "    \n",
    "    df_actual_metadata_merged = df_actualdata.merge(df_metadata,on=['Country Code'])\n",
    "    \n",
    "    return df_actual_metadata_merged"
   ]
  },
  {
   "cell_type": "code",
   "execution_count": 3,
   "metadata": {},
   "outputs": [],
   "source": [
    "def read_file2(datafile, metadatafile):\n",
    "    df_actualdata = pd.read_csv(datafile,index_col=False,header=4)\n",
    "    df_actualdata = df_actualdata[df_actualdata.columns[:-1]]\n",
    "    df_actualdata= df_actualdata.fillna(0)\n",
    "    \n",
    "    df_metadata = pd.read_csv(metadatafile,header=0)\n",
    "    df_metadata = df_metadata[['Country Code', 'Region', 'IncomeGroup']]\n",
    "    df_metadata = df_metadata.dropna()\n",
    "    \n",
    "    df_actual_metadata_merged = df_actualdata.merge(df_metadata,on=['Country Code'])\n",
    "    \n",
    "    return df_actual_metadata_merged"
   ]
  },
  {
   "cell_type": "code",
   "execution_count": 20,
   "metadata": {},
   "outputs": [],
   "source": [
    "co2_emission = read_file1(\"/BusinessIntelligence/Datasets/CO2Emissions/co2emissions_data_worldbank.csv\",\"/BusinessIntelligence/Datasets/CO2Emissions/metadata_country_co2emission.csv\")\n",
    "gdp = read_file1(\"/BusinessIntelligence/Datasets/GDP/gdp_data_worldbank.csv\",\"/BusinessIntelligence/Datasets/GDP/metadata_country_gdp.csv\")\n",
    "population = read_file1(\"/BusinessIntelligence/Datasets/Population/population_data_worldbank.csv\",\"/BusinessIntelligence/Datasets/Population/metadata_country_population.csv\")\n"
   ]
  },
  {
   "cell_type": "code",
   "execution_count": 9,
   "metadata": {},
   "outputs": [],
   "source": [
    "co2_emission = co2_emission.drop(['Indicator Name','Indicator Code','2015','2016','2017','2018'],axis=1)\n",
    "gdp = gdp.drop(['Country Name','Indicator Name','Indicator Code','2015','2016','2017','Region','IncomeGroup'],axis=1)\n",
    "population = population.drop(['Country Name','Indicator Name','Indicator Code','2015','2016','2017','Region','IncomeGroup'],axis=1)\n"
   ]
  },
  {
   "cell_type": "code",
   "execution_count": 10,
   "metadata": {},
   "outputs": [],
   "source": [
    "co2_emission_melted = pd.melt(co2_emission,id_vars=['Country Name','Country Code','Region','IncomeGroup'],\n",
    "                             var_name='year', value_name='co2_emission')\n",
    "\n",
    "gdp_melt = pd.melt(gdp,id_vars=['Country Code'],\n",
    "                             var_name='year', value_name='gdp')\n",
    "                                \n",
    "population_melt = pd.melt(population,id_vars=['Country Code'],\n",
    "                             var_name='year', value_name='population')\n",
    "\n"
   ]
  },
  {
   "cell_type": "code",
   "execution_count": 11,
   "metadata": {},
   "outputs": [],
   "source": [
    "co2_emission_gdp_population = co2_emission_melted.merge(\n",
    "    gdp_melt, on = ['Country Code','year']).merge(population_melt,on = ['Country Code','year'])\n",
    "\n",
    "co2_emission_gdp_population = co2_emission_gdp_population[(co2_emission_gdp_population != 0).all(1)]\n"
   ]
  },
  {
   "cell_type": "code",
   "execution_count": 12,
   "metadata": {},
   "outputs": [],
   "source": [
    "co2_emission_gdp_population.to_excel('CO2Emission_GDP_Population.xlsx', index=False)"
   ]
  },
  {
   "cell_type": "code",
   "execution_count": 13,
   "metadata": {},
   "outputs": [
    {
     "data": {
      "text/html": [
       "<div>\n",
       "<style scoped>\n",
       "    .dataframe tbody tr th:only-of-type {\n",
       "        vertical-align: middle;\n",
       "    }\n",
       "\n",
       "    .dataframe tbody tr th {\n",
       "        vertical-align: top;\n",
       "    }\n",
       "\n",
       "    .dataframe thead th {\n",
       "        text-align: right;\n",
       "    }\n",
       "</style>\n",
       "<table border=\"1\" class=\"dataframe\">\n",
       "  <thead>\n",
       "    <tr style=\"text-align: right;\">\n",
       "      <th></th>\n",
       "      <th>co2_emission</th>\n",
       "      <th>gdp</th>\n",
       "      <th>population</th>\n",
       "    </tr>\n",
       "  </thead>\n",
       "  <tbody>\n",
       "    <tr>\n",
       "      <th>co2_emission</th>\n",
       "      <td>1.000000</td>\n",
       "      <td>0.763989</td>\n",
       "      <td>0.613156</td>\n",
       "    </tr>\n",
       "    <tr>\n",
       "      <th>gdp</th>\n",
       "      <td>0.763989</td>\n",
       "      <td>1.000000</td>\n",
       "      <td>0.318468</td>\n",
       "    </tr>\n",
       "    <tr>\n",
       "      <th>population</th>\n",
       "      <td>0.613156</td>\n",
       "      <td>0.318468</td>\n",
       "      <td>1.000000</td>\n",
       "    </tr>\n",
       "  </tbody>\n",
       "</table>\n",
       "</div>"
      ],
      "text/plain": [
       "              co2_emission       gdp  population\n",
       "co2_emission      1.000000  0.763989    0.613156\n",
       "gdp               0.763989  1.000000    0.318468\n",
       "population        0.613156  0.318468    1.000000"
      ]
     },
     "execution_count": 13,
     "metadata": {},
     "output_type": "execute_result"
    }
   ],
   "source": [
    "df_co2_emission_gdp_population = co2_emission_gdp_population.drop(['Country Name','Country Code', \n",
    "                                                                   'Region', 'IncomeGroup'], axis=1)\n",
    "\n",
    "\n",
    "df_co2_emission_gdp_population.corr()\n"
   ]
  },
  {
   "cell_type": "code",
   "execution_count": 14,
   "metadata": {},
   "outputs": [],
   "source": [
    "co2_emission_gdp_population['year'] = co2_emission_gdp_population['year'].astype('int')\n",
    "\n",
    "df = co2_emission_gdp_population.drop(['Country Name','Country Code',\n",
    "                                       'Region', 'IncomeGroup'], axis=1)\n",
    "\n",
    "train =  df[co2_emission_gdp_population['year'] <= 2011]\n",
    "test  =  df[co2_emission_gdp_population['year'] > 2011]\n",
    "\n",
    "train_x = train.drop(['year','co2_emission'],axis=1)\n",
    "test_x  = test.drop(['year','co2_emission'],axis=1)\n",
    "\n",
    "train_y =  train['co2_emission']\n",
    "test_y  =  test['co2_emission']"
   ]
  },
  {
   "cell_type": "code",
   "execution_count": 15,
   "metadata": {},
   "outputs": [
    {
     "name": "stdout",
     "output_type": "stream",
     "text": [
      "Linear Regression Test Score:0.78\n"
     ]
    }
   ],
   "source": [
    "regr = linear_model.LinearRegression()\n",
    "regr.fit(train_x,train_y)\n",
    "\n",
    "y_pred = regr.predict(test_x)\n",
    "\n",
    "linear_test_score = r2_score(test_y,y_pred)\n",
    "\n",
    "print('Linear Regression Test Score:%.2f' % linear_test_score )\n"
   ]
  },
  {
   "cell_type": "code",
   "execution_count": 16,
   "metadata": {},
   "outputs": [
    {
     "name": "stdout",
     "output_type": "stream",
     "text": [
      "Random Forest Test Score:0.87\n"
     ]
    }
   ],
   "source": [
    "rf = RandomForestRegressor(n_estimators=500, oob_score=True, random_state=0)\n",
    "rf.fit(train_x,train_y)\n",
    "\n",
    "predicted_test = rf.predict(test_x)\n",
    "\n",
    "test_score = r2_score(test_y,predicted_test)\n",
    "\n",
    "print('Random Forest Test Score:%.2f' % test_score )\n",
    "\n"
   ]
  },
  {
   "cell_type": "code",
   "execution_count": 17,
   "metadata": {},
   "outputs": [
    {
     "name": "stderr",
     "output_type": "stream",
     "text": [
      "/anaconda3/lib/python3.6/site-packages/ipykernel_launcher.py:1: SettingWithCopyWarning: \n",
      "A value is trying to be set on a copy of a slice from a DataFrame.\n",
      "Try using .loc[row_indexer,col_indexer] = value instead\n",
      "\n",
      "See the caveats in the documentation: http://pandas.pydata.org/pandas-docs/stable/indexing.html#indexing-view-versus-copy\n",
      "  \"\"\"Entry point for launching an IPython kernel.\n"
     ]
    },
    {
     "data": {
      "text/html": [
       "<div>\n",
       "<style scoped>\n",
       "    .dataframe tbody tr th:only-of-type {\n",
       "        vertical-align: middle;\n",
       "    }\n",
       "\n",
       "    .dataframe tbody tr th {\n",
       "        vertical-align: top;\n",
       "    }\n",
       "\n",
       "    .dataframe thead th {\n",
       "        text-align: right;\n",
       "    }\n",
       "</style>\n",
       "<table border=\"1\" class=\"dataframe\">\n",
       "  <thead>\n",
       "    <tr style=\"text-align: right;\">\n",
       "      <th></th>\n",
       "      <th>year</th>\n",
       "      <th>co2_emission</th>\n",
       "      <th>gdp</th>\n",
       "      <th>population</th>\n",
       "      <th>predicted_co2_emmissions</th>\n",
       "    </tr>\n",
       "  </thead>\n",
       "  <tbody>\n",
       "    <tr>\n",
       "      <th>11284</th>\n",
       "      <td>2012</td>\n",
       "      <td>1349.456</td>\n",
       "      <td>2.534637e+09</td>\n",
       "      <td>102577.0</td>\n",
       "      <td>2545.411380</td>\n",
       "    </tr>\n",
       "    <tr>\n",
       "      <th>11285</th>\n",
       "      <td>2012</td>\n",
       "      <td>10755.311</td>\n",
       "      <td>1.990732e+10</td>\n",
       "      <td>30696958.0</td>\n",
       "      <td>51865.629962</td>\n",
       "    </tr>\n",
       "    <tr>\n",
       "      <th>11286</th>\n",
       "      <td>2012</td>\n",
       "      <td>33399.036</td>\n",
       "      <td>1.280529e+11</td>\n",
       "      <td>25096150.0</td>\n",
       "      <td>195370.147308</td>\n",
       "    </tr>\n",
       "    <tr>\n",
       "      <th>11287</th>\n",
       "      <td>2012</td>\n",
       "      <td>4910.113</td>\n",
       "      <td>1.231978e+10</td>\n",
       "      <td>2900401.0</td>\n",
       "      <td>6906.457136</td>\n",
       "    </tr>\n",
       "    <tr>\n",
       "      <th>11288</th>\n",
       "      <td>2012</td>\n",
       "      <td>487.711</td>\n",
       "      <td>3.164615e+09</td>\n",
       "      <td>82431.0</td>\n",
       "      <td>548.832556</td>\n",
       "    </tr>\n",
       "    <tr>\n",
       "      <th>11289</th>\n",
       "      <td>2012</td>\n",
       "      <td>176386.367</td>\n",
       "      <td>3.745906e+11</td>\n",
       "      <td>8900453.0</td>\n",
       "      <td>56613.111512</td>\n",
       "    </tr>\n",
       "    <tr>\n",
       "      <th>11290</th>\n",
       "      <td>2012</td>\n",
       "      <td>192356.152</td>\n",
       "      <td>5.459824e+11</td>\n",
       "      <td>42096739.0</td>\n",
       "      <td>286723.690754</td>\n",
       "    </tr>\n",
       "    <tr>\n",
       "      <th>11291</th>\n",
       "      <td>2012</td>\n",
       "      <td>5694.851</td>\n",
       "      <td>1.061932e+10</td>\n",
       "      <td>2881922.0</td>\n",
       "      <td>6724.163232</td>\n",
       "    </tr>\n",
       "    <tr>\n",
       "      <th>11293</th>\n",
       "      <td>2012</td>\n",
       "      <td>524.381</td>\n",
       "      <td>1.211412e+09</td>\n",
       "      <td>96777.0</td>\n",
       "      <td>541.491222</td>\n",
       "    </tr>\n",
       "    <tr>\n",
       "      <th>11294</th>\n",
       "      <td>2012</td>\n",
       "      <td>388126.281</td>\n",
       "      <td>1.543411e+12</td>\n",
       "      <td>22742475.0</td>\n",
       "      <td>399488.106466</td>\n",
       "    </tr>\n",
       "  </tbody>\n",
       "</table>\n",
       "</div>"
      ],
      "text/plain": [
       "       year  co2_emission           gdp  population  predicted_co2_emmissions\n",
       "11284  2012      1349.456  2.534637e+09    102577.0               2545.411380\n",
       "11285  2012     10755.311  1.990732e+10  30696958.0              51865.629962\n",
       "11286  2012     33399.036  1.280529e+11  25096150.0             195370.147308\n",
       "11287  2012      4910.113  1.231978e+10   2900401.0               6906.457136\n",
       "11288  2012       487.711  3.164615e+09     82431.0                548.832556\n",
       "11289  2012    176386.367  3.745906e+11   8900453.0              56613.111512\n",
       "11290  2012    192356.152  5.459824e+11  42096739.0             286723.690754\n",
       "11291  2012      5694.851  1.061932e+10   2881922.0               6724.163232\n",
       "11293  2012       524.381  1.211412e+09     96777.0                541.491222\n",
       "11294  2012    388126.281  1.543411e+12  22742475.0             399488.106466"
      ]
     },
     "execution_count": 17,
     "metadata": {},
     "output_type": "execute_result"
    }
   ],
   "source": [
    "test['predicted_co2_emmissions'] = predicted_test\n",
    "test.head(10)"
   ]
  },
  {
   "cell_type": "code",
   "execution_count": 18,
   "metadata": {},
   "outputs": [
    {
     "name": "stderr",
     "output_type": "stream",
     "text": [
      "/anaconda3/lib/python3.6/site-packages/ipykernel_launcher.py:3: SettingWithCopyWarning: \n",
      "A value is trying to be set on a copy of a slice from a DataFrame.\n",
      "Try using .loc[row_indexer,col_indexer] = value instead\n",
      "\n",
      "See the caveats in the documentation: http://pandas.pydata.org/pandas-docs/stable/indexing.html#indexing-view-versus-copy\n",
      "  This is separate from the ipykernel package so we can avoid doing imports until\n"
     ]
    }
   ],
   "source": [
    "co2_emission_gdp_population['year'] = co2_emission_gdp_population['year'].astype('int')\n",
    "d_co2 =  co2_emission_gdp_population[co2_emission_gdp_population['year']>2011]\n",
    "test['Country Name'] = d_co2['Country Name']\n",
    "test.to_excel(\"TestData.xlsx\",index=False)"
   ]
  },
  {
   "cell_type": "code",
   "execution_count": 19,
   "metadata": {},
   "outputs": [
    {
     "name": "stdout",
     "output_type": "stream",
     "text": [
      "Decision Tree Test Score:0.81\n"
     ]
    }
   ],
   "source": [
    "dt = DecisionTreeRegressor(random_state=0, criterion=\"mae\")\n",
    "dt_fit = dt.fit(train_x,train_y)\n",
    "\n",
    "dt_predicted_test = dt_fit.predict(test_x)\n",
    "dt_test_score = r2_score(test_y,dt_predicted_test)\n",
    "print('Decision Tree Test Score:%.2f' % dt_test_score )\n",
    "\n"
   ]
  },
  {
   "cell_type": "code",
   "execution_count": null,
   "metadata": {},
   "outputs": [],
   "source": []
  }
 ],
 "metadata": {
  "kernelspec": {
   "display_name": "Python 3",
   "language": "python",
   "name": "python3"
  },
  "language_info": {
   "codemirror_mode": {
    "name": "ipython",
    "version": 3
   },
   "file_extension": ".py",
   "mimetype": "text/x-python",
   "name": "python",
   "nbconvert_exporter": "python",
   "pygments_lexer": "ipython3",
   "version": "3.6.4"
  }
 },
 "nbformat": 4,
 "nbformat_minor": 2
}
